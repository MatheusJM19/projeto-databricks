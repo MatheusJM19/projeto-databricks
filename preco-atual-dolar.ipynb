{
 "cells": [
  {
   "cell_type": "code",
   "execution_count": 0,
   "metadata": {
    "application/vnd.databricks.v1+cell": {
     "cellMetadata": {
      "byteLimit": 2048000,
      "rowLimit": 10000
     },
     "inputWidgets": {},
     "nuid": "3d49147b-a2eb-44ea-94b2-de456ea1f8b0",
     "showTitle": false,
     "tableResultSettingsMap": {},
     "title": ""
    }
   },
   "outputs": [],
   "source": [
    "import pandas as pd\n",
    "import requests\n",
    "\n",
    "# Obter o valor do Dolar via Api\n",
    "url_dolar = \"https://economia.awesomeapi.com.br/last/USD-BRL\"\n",
    "\n",
    "# Fazendo a requisição na Api\n",
    "response = requests.get(url_dolar)\n",
    "\n",
    "# Obtendo os dados na variavel valor_dolar\n",
    "dados = response.json()\n",
    "\n",
    "valor_dolar = float(dados[\"USDBRL\"][\"bid\"]) \n",
    "\n",
    "print(f\"Valor Atual do Dolar: ${valor_dolar}\")"
   ]
  }
 ],
 "metadata": {
  "application/vnd.databricks.v1+notebook": {
   "computePreferences": null,
   "dashboards": [],
   "environmentMetadata": {
    "base_environment": "",
    "environment_version": "4"
   },
   "inputWidgetPreferences": null,
   "language": "python",
   "notebookMetadata": {
    "pythonIndentUnit": 4
   },
   "notebookName": "preco-atual-dolar",
   "widgets": {}
  },
  "language_info": {
   "name": "python"
  }
 },
 "nbformat": 4,
 "nbformat_minor": 0
}
